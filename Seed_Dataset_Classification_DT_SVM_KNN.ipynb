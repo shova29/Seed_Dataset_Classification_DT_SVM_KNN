{
  "nbformat": 4,
  "nbformat_minor": 0,
  "metadata": {
    "colab": {
      "name": "Seed_Dataset_Classification_DT_SVM_KNN).ipynb",
      "provenance": [],
      "collapsed_sections": []
    },
    "kernelspec": {
      "name": "python3",
      "display_name": "Python 3"
    }
  },
  "cells": [
    {
      "cell_type": "markdown",
      "metadata": {
        "id": "UeHzsN2taCKS"
      },
      "source": [
        "**Importing pandas to read a dataset, matplotlib,seaborn import for plotting and libraries**"
      ]
    },
    {
      "cell_type": "code",
      "metadata": {
        "id": "BGyFCrjdoKJP"
      },
      "source": [
        "import pandas as pd\n",
        "import graphviz\n",
        "from sklearn.preprocessing import LabelEncoder\n",
        "from sklearn.tree import DecisionTreeClassifier, export_graphviz\n",
        "from sklearn.model_selection import train_test_split\n",
        "from sklearn.metrics import accuracy_score\n",
        "from sklearn.metrics import classification_report\n",
        "from sklearn.metrics import confusion_matrix"
      ],
      "execution_count": null,
      "outputs": []
    },
    {
      "cell_type": "markdown",
      "metadata": {
        "id": "E-10PYrnaKQX"
      },
      "source": [
        "**To Read Seed-Dataset**"
      ]
    },
    {
      "cell_type": "code",
      "metadata": {
        "colab": {
          "base_uri": "https://localhost:8080/"
        },
        "id": "xdENEElNubsa",
        "outputId": "1f47892e-a574-4bc9-e474-9e25ff88c024"
      },
      "source": [
        "data=pd.read_csv('https://query.data.world/s/uouysa55slsp4etdkc3ova7hww6xue')\n",
        "print(data)"
      ],
      "execution_count": null,
      "outputs": [
        {
          "output_type": "stream",
          "text": [
            "      ID   area  ...  lengthOfKernelGroove  seedType\n",
            "0      1  15.26  ...                 5.220         1\n",
            "1      2  14.88  ...                 4.956         1\n",
            "2      3  14.29  ...                 4.825         1\n",
            "3      4  13.84  ...                 4.805         1\n",
            "4      5  16.14  ...                 5.175         1\n",
            "..   ...    ...  ...                   ...       ...\n",
            "205  206  12.19  ...                 4.870         3\n",
            "206  207  11.23  ...                 5.003         3\n",
            "207  208  13.20  ...                 5.056         3\n",
            "208  209  11.84  ...                 5.044         3\n",
            "209  210  12.30  ...                 5.063         3\n",
            "\n",
            "[210 rows x 9 columns]\n"
          ],
          "name": "stdout"
        }
      ]
    },
    {
      "cell_type": "markdown",
      "metadata": {
        "id": "i_gpVBIMage9"
      },
      "source": [
        "**To Generate descriptive Statistics Information through describe() method**"
      ]
    },
    {
      "cell_type": "code",
      "metadata": {
        "colab": {
          "base_uri": "https://localhost:8080/",
          "height": 300
        },
        "id": "itmI7g5SEKjm",
        "outputId": "a48da72a-4902-4bd1-9705-b34d7d9a675d"
      },
      "source": [
        "data.describe()"
      ],
      "execution_count": null,
      "outputs": [
        {
          "output_type": "execute_result",
          "data": {
            "text/html": [
              "<div>\n",
              "<style scoped>\n",
              "    .dataframe tbody tr th:only-of-type {\n",
              "        vertical-align: middle;\n",
              "    }\n",
              "\n",
              "    .dataframe tbody tr th {\n",
              "        vertical-align: top;\n",
              "    }\n",
              "\n",
              "    .dataframe thead th {\n",
              "        text-align: right;\n",
              "    }\n",
              "</style>\n",
              "<table border=\"1\" class=\"dataframe\">\n",
              "  <thead>\n",
              "    <tr style=\"text-align: right;\">\n",
              "      <th></th>\n",
              "      <th>ID</th>\n",
              "      <th>area</th>\n",
              "      <th>perimeter</th>\n",
              "      <th>compactness</th>\n",
              "      <th>lengthOfKernel</th>\n",
              "      <th>widthOfKernel</th>\n",
              "      <th>asymmetryCoefficient</th>\n",
              "      <th>lengthOfKernelGroove</th>\n",
              "      <th>seedType</th>\n",
              "    </tr>\n",
              "  </thead>\n",
              "  <tbody>\n",
              "    <tr>\n",
              "      <th>count</th>\n",
              "      <td>210.000000</td>\n",
              "      <td>210.000000</td>\n",
              "      <td>210.000000</td>\n",
              "      <td>210.000000</td>\n",
              "      <td>210.000000</td>\n",
              "      <td>210.000000</td>\n",
              "      <td>210.000000</td>\n",
              "      <td>210.000000</td>\n",
              "      <td>210.000000</td>\n",
              "    </tr>\n",
              "    <tr>\n",
              "      <th>mean</th>\n",
              "      <td>105.500000</td>\n",
              "      <td>14.847524</td>\n",
              "      <td>14.559286</td>\n",
              "      <td>0.870999</td>\n",
              "      <td>5.628533</td>\n",
              "      <td>3.258605</td>\n",
              "      <td>3.700201</td>\n",
              "      <td>5.408071</td>\n",
              "      <td>2.000000</td>\n",
              "    </tr>\n",
              "    <tr>\n",
              "      <th>std</th>\n",
              "      <td>60.765944</td>\n",
              "      <td>2.909699</td>\n",
              "      <td>1.305959</td>\n",
              "      <td>0.023629</td>\n",
              "      <td>0.443063</td>\n",
              "      <td>0.377714</td>\n",
              "      <td>1.503557</td>\n",
              "      <td>0.491480</td>\n",
              "      <td>0.818448</td>\n",
              "    </tr>\n",
              "    <tr>\n",
              "      <th>min</th>\n",
              "      <td>1.000000</td>\n",
              "      <td>10.590000</td>\n",
              "      <td>12.410000</td>\n",
              "      <td>0.808100</td>\n",
              "      <td>4.899000</td>\n",
              "      <td>2.630000</td>\n",
              "      <td>0.765100</td>\n",
              "      <td>4.519000</td>\n",
              "      <td>1.000000</td>\n",
              "    </tr>\n",
              "    <tr>\n",
              "      <th>25%</th>\n",
              "      <td>53.250000</td>\n",
              "      <td>12.270000</td>\n",
              "      <td>13.450000</td>\n",
              "      <td>0.856900</td>\n",
              "      <td>5.262250</td>\n",
              "      <td>2.944000</td>\n",
              "      <td>2.561500</td>\n",
              "      <td>5.045000</td>\n",
              "      <td>1.000000</td>\n",
              "    </tr>\n",
              "    <tr>\n",
              "      <th>50%</th>\n",
              "      <td>105.500000</td>\n",
              "      <td>14.355000</td>\n",
              "      <td>14.320000</td>\n",
              "      <td>0.873450</td>\n",
              "      <td>5.523500</td>\n",
              "      <td>3.237000</td>\n",
              "      <td>3.599000</td>\n",
              "      <td>5.223000</td>\n",
              "      <td>2.000000</td>\n",
              "    </tr>\n",
              "    <tr>\n",
              "      <th>75%</th>\n",
              "      <td>157.750000</td>\n",
              "      <td>17.305000</td>\n",
              "      <td>15.715000</td>\n",
              "      <td>0.887775</td>\n",
              "      <td>5.979750</td>\n",
              "      <td>3.561750</td>\n",
              "      <td>4.768750</td>\n",
              "      <td>5.877000</td>\n",
              "      <td>3.000000</td>\n",
              "    </tr>\n",
              "    <tr>\n",
              "      <th>max</th>\n",
              "      <td>210.000000</td>\n",
              "      <td>21.180000</td>\n",
              "      <td>17.250000</td>\n",
              "      <td>0.918300</td>\n",
              "      <td>6.675000</td>\n",
              "      <td>4.033000</td>\n",
              "      <td>8.456000</td>\n",
              "      <td>6.550000</td>\n",
              "      <td>3.000000</td>\n",
              "    </tr>\n",
              "  </tbody>\n",
              "</table>\n",
              "</div>"
            ],
            "text/plain": [
              "               ID        area  ...  lengthOfKernelGroove    seedType\n",
              "count  210.000000  210.000000  ...            210.000000  210.000000\n",
              "mean   105.500000   14.847524  ...              5.408071    2.000000\n",
              "std     60.765944    2.909699  ...              0.491480    0.818448\n",
              "min      1.000000   10.590000  ...              4.519000    1.000000\n",
              "25%     53.250000   12.270000  ...              5.045000    1.000000\n",
              "50%    105.500000   14.355000  ...              5.223000    2.000000\n",
              "75%    157.750000   17.305000  ...              5.877000    3.000000\n",
              "max    210.000000   21.180000  ...              6.550000    3.000000\n",
              "\n",
              "[8 rows x 9 columns]"
            ]
          },
          "metadata": {
            "tags": []
          },
          "execution_count": 3
        }
      ]
    },
    {
      "cell_type": "markdown",
      "metadata": {
        "id": "mkG3aL4nahgL"
      },
      "source": [
        "**To Findout the top-rows of data of Seed-Dataset**"
      ]
    },
    {
      "cell_type": "code",
      "metadata": {
        "colab": {
          "base_uri": "https://localhost:8080/",
          "height": 206
        },
        "id": "L5bpSPlXEPaO",
        "outputId": "60f2929d-a2b1-493b-c944-5602aba063f0"
      },
      "source": [
        "data.head()"
      ],
      "execution_count": null,
      "outputs": [
        {
          "output_type": "execute_result",
          "data": {
            "text/html": [
              "<div>\n",
              "<style scoped>\n",
              "    .dataframe tbody tr th:only-of-type {\n",
              "        vertical-align: middle;\n",
              "    }\n",
              "\n",
              "    .dataframe tbody tr th {\n",
              "        vertical-align: top;\n",
              "    }\n",
              "\n",
              "    .dataframe thead th {\n",
              "        text-align: right;\n",
              "    }\n",
              "</style>\n",
              "<table border=\"1\" class=\"dataframe\">\n",
              "  <thead>\n",
              "    <tr style=\"text-align: right;\">\n",
              "      <th></th>\n",
              "      <th>ID</th>\n",
              "      <th>area</th>\n",
              "      <th>perimeter</th>\n",
              "      <th>compactness</th>\n",
              "      <th>lengthOfKernel</th>\n",
              "      <th>widthOfKernel</th>\n",
              "      <th>asymmetryCoefficient</th>\n",
              "      <th>lengthOfKernelGroove</th>\n",
              "      <th>seedType</th>\n",
              "    </tr>\n",
              "  </thead>\n",
              "  <tbody>\n",
              "    <tr>\n",
              "      <th>0</th>\n",
              "      <td>1</td>\n",
              "      <td>15.26</td>\n",
              "      <td>14.84</td>\n",
              "      <td>0.8710</td>\n",
              "      <td>5.763</td>\n",
              "      <td>3.312</td>\n",
              "      <td>2.221</td>\n",
              "      <td>5.220</td>\n",
              "      <td>1</td>\n",
              "    </tr>\n",
              "    <tr>\n",
              "      <th>1</th>\n",
              "      <td>2</td>\n",
              "      <td>14.88</td>\n",
              "      <td>14.57</td>\n",
              "      <td>0.8811</td>\n",
              "      <td>5.554</td>\n",
              "      <td>3.333</td>\n",
              "      <td>1.018</td>\n",
              "      <td>4.956</td>\n",
              "      <td>1</td>\n",
              "    </tr>\n",
              "    <tr>\n",
              "      <th>2</th>\n",
              "      <td>3</td>\n",
              "      <td>14.29</td>\n",
              "      <td>14.09</td>\n",
              "      <td>0.9050</td>\n",
              "      <td>5.291</td>\n",
              "      <td>3.337</td>\n",
              "      <td>2.699</td>\n",
              "      <td>4.825</td>\n",
              "      <td>1</td>\n",
              "    </tr>\n",
              "    <tr>\n",
              "      <th>3</th>\n",
              "      <td>4</td>\n",
              "      <td>13.84</td>\n",
              "      <td>13.94</td>\n",
              "      <td>0.8955</td>\n",
              "      <td>5.324</td>\n",
              "      <td>3.379</td>\n",
              "      <td>2.259</td>\n",
              "      <td>4.805</td>\n",
              "      <td>1</td>\n",
              "    </tr>\n",
              "    <tr>\n",
              "      <th>4</th>\n",
              "      <td>5</td>\n",
              "      <td>16.14</td>\n",
              "      <td>14.99</td>\n",
              "      <td>0.9034</td>\n",
              "      <td>5.658</td>\n",
              "      <td>3.562</td>\n",
              "      <td>1.355</td>\n",
              "      <td>5.175</td>\n",
              "      <td>1</td>\n",
              "    </tr>\n",
              "  </tbody>\n",
              "</table>\n",
              "</div>"
            ],
            "text/plain": [
              "   ID   area  perimeter  ...  asymmetryCoefficient  lengthOfKernelGroove  seedType\n",
              "0   1  15.26      14.84  ...                 2.221                 5.220         1\n",
              "1   2  14.88      14.57  ...                 1.018                 4.956         1\n",
              "2   3  14.29      14.09  ...                 2.699                 4.825         1\n",
              "3   4  13.84      13.94  ...                 2.259                 4.805         1\n",
              "4   5  16.14      14.99  ...                 1.355                 5.175         1\n",
              "\n",
              "[5 rows x 9 columns]"
            ]
          },
          "metadata": {
            "tags": []
          },
          "execution_count": 4
        }
      ]
    },
    {
      "cell_type": "markdown",
      "metadata": {
        "id": "jiwCmRTwaipJ"
      },
      "source": [
        "**To find any null values in the data**"
      ]
    },
    {
      "cell_type": "code",
      "metadata": {
        "colab": {
          "base_uri": "https://localhost:8080/"
        },
        "id": "0XWHdQo5EU3f",
        "outputId": "d7ac9eb6-734e-4491-97e4-5c97b9e80032"
      },
      "source": [
        "data.isnull().sum()"
      ],
      "execution_count": null,
      "outputs": [
        {
          "output_type": "execute_result",
          "data": {
            "text/plain": [
              "ID                      0\n",
              "area                    0\n",
              "perimeter               0\n",
              "compactness             0\n",
              "lengthOfKernel          0\n",
              "widthOfKernel           0\n",
              "asymmetryCoefficient    0\n",
              "lengthOfKernelGroove    0\n",
              "seedType                0\n",
              "dtype: int64"
            ]
          },
          "metadata": {
            "tags": []
          },
          "execution_count": 5
        }
      ]
    },
    {
      "cell_type": "markdown",
      "metadata": {
        "id": "nYHaQUcGaj9q"
      },
      "source": [
        "**Taking lengthOfKernel and widthOfKernel in X to make clusters:**"
      ]
    },
    {
      "cell_type": "code",
      "metadata": {
        "id": "mRm9Ga9qIdX_"
      },
      "source": [
        "x=data.iloc[:,[4,5]]"
      ],
      "execution_count": null,
      "outputs": []
    },
    {
      "cell_type": "markdown",
      "metadata": {
        "id": "QBgg9I6Vak3m"
      },
      "source": [
        "**To dispaly the first 3 rows of X:**"
      ]
    },
    {
      "cell_type": "code",
      "metadata": {
        "id": "b5PKfbhdIw1M",
        "colab": {
          "base_uri": "https://localhost:8080/",
          "height": 143
        },
        "outputId": "eae23196-8db6-4c87-fbab-5fb83963a510"
      },
      "source": [
        "x.head(3)"
      ],
      "execution_count": null,
      "outputs": [
        {
          "output_type": "execute_result",
          "data": {
            "text/html": [
              "<div>\n",
              "<style scoped>\n",
              "    .dataframe tbody tr th:only-of-type {\n",
              "        vertical-align: middle;\n",
              "    }\n",
              "\n",
              "    .dataframe tbody tr th {\n",
              "        vertical-align: top;\n",
              "    }\n",
              "\n",
              "    .dataframe thead th {\n",
              "        text-align: right;\n",
              "    }\n",
              "</style>\n",
              "<table border=\"1\" class=\"dataframe\">\n",
              "  <thead>\n",
              "    <tr style=\"text-align: right;\">\n",
              "      <th></th>\n",
              "      <th>lengthOfKernel</th>\n",
              "      <th>widthOfKernel</th>\n",
              "    </tr>\n",
              "  </thead>\n",
              "  <tbody>\n",
              "    <tr>\n",
              "      <th>0</th>\n",
              "      <td>5.763</td>\n",
              "      <td>3.312</td>\n",
              "    </tr>\n",
              "    <tr>\n",
              "      <th>1</th>\n",
              "      <td>5.554</td>\n",
              "      <td>3.333</td>\n",
              "    </tr>\n",
              "    <tr>\n",
              "      <th>2</th>\n",
              "      <td>5.291</td>\n",
              "      <td>3.337</td>\n",
              "    </tr>\n",
              "  </tbody>\n",
              "</table>\n",
              "</div>"
            ],
            "text/plain": [
              "   lengthOfKernel  widthOfKernel\n",
              "0           5.763          3.312\n",
              "1           5.554          3.333\n",
              "2           5.291          3.337"
            ]
          },
          "metadata": {
            "tags": []
          },
          "execution_count": 7
        }
      ]
    },
    {
      "cell_type": "markdown",
      "metadata": {
        "id": "5w0m3PN9amnh"
      },
      "source": [
        "**Splitting the dataset into 70:30**"
      ]
    },
    {
      "cell_type": "code",
      "metadata": {
        "colab": {
          "base_uri": "https://localhost:8080/"
        },
        "id": "qpwl6Nwsseq4",
        "outputId": "976967c7-4088-4448-a742-e721ee26688f"
      },
      "source": [
        "X = data.drop('seedType', axis=1)\n",
        "Y= data['seedType']\n",
        "X_train, X_test, y_train, y_test = train_test_split(X, Y, test_size=0.3, stratify=Y, random_state=10)\n",
        "y_test.value_counts()"
      ],
      "execution_count": null,
      "outputs": [
        {
          "output_type": "execute_result",
          "data": {
            "text/plain": [
              "3    21\n",
              "2    21\n",
              "1    21\n",
              "Name: seedType, dtype: int64"
            ]
          },
          "metadata": {
            "tags": []
          },
          "execution_count": 8
        }
      ]
    },
    {
      "cell_type": "markdown",
      "metadata": {
        "id": "7H5bIdvI8xKV"
      },
      "source": [
        "**Decision-Tree Algorithm:**\n",
        "It is a graphical representation for getting all the possible solutions to a problem/decision based on given conditions.. It is a tree-structured classifier, where internal nodes represent the features of a dataset, branches represent the decision rules and each leaf node represents the outcome."
      ]
    },
    {
      "cell_type": "markdown",
      "metadata": {
        "id": "PwVANYyacBDZ"
      },
      "source": [
        "**To Train Decision-Tree Model**"
      ]
    },
    {
      "cell_type": "code",
      "metadata": {
        "id": "MGt7JRpP0gfL"
      },
      "source": [
        "tree = DecisionTreeClassifier(criterion='gini',min_samples_leaf=5,min_samples_split=5,max_depth=None,random_state=10)\n",
        "clf=tree.fit(X_train, y_train)\n",
        "pred = clf.predict(X_test)"
      ],
      "execution_count": null,
      "outputs": []
    },
    {
      "cell_type": "markdown",
      "metadata": {
        "id": "cxlxfchUccar"
      },
      "source": [
        " **To see the accuracy and classification-report of the DT model through Classification-Performance Metrics.**"
      ]
    },
    {
      "cell_type": "code",
      "metadata": {
        "colab": {
          "base_uri": "https://localhost:8080/"
        },
        "id": "dh8C8doI43wk",
        "outputId": "35bd4472-710a-4051-be68-cbad130cb234"
      },
      "source": [
        "accuracy = accuracy_score(y_test, pred)\n",
        "print(classification_report(y_test,pred))\n",
        "print('DecisionTreeClassifier Accuracy Score: ',accuracy)"
      ],
      "execution_count": null,
      "outputs": [
        {
          "output_type": "stream",
          "text": [
            "              precision    recall  f1-score   support\n",
            "\n",
            "           1       1.00      1.00      1.00        21\n",
            "           2       1.00      1.00      1.00        21\n",
            "           3       1.00      1.00      1.00        21\n",
            "\n",
            "    accuracy                           1.00        63\n",
            "   macro avg       1.00      1.00      1.00        63\n",
            "weighted avg       1.00      1.00      1.00        63\n",
            "\n",
            "DecisionTreeClassifier Accuracy Score:  1.0\n"
          ],
          "name": "stdout"
        }
      ]
    },
    {
      "cell_type": "markdown",
      "metadata": {
        "id": "sPDGd7YXc3ci"
      },
      "source": [
        "**To display the confusion-matrix of the model through ConfusionMatrixDisplay.**"
      ]
    },
    {
      "cell_type": "code",
      "metadata": {
        "colab": {
          "base_uri": "https://localhost:8080/",
          "height": 297
        },
        "id": "Qqgozgof7tnB",
        "outputId": "927ab67c-997c-453a-9619-634a727a5f93"
      },
      "source": [
        "from sklearn.metrics import ConfusionMatrixDisplay\n",
        "cls_mat=confusion_matrix(y_test,pred)\n",
        "disp = ConfusionMatrixDisplay(cls_mat,display_labels=clf.classes_)\n",
        "disp.plot()"
      ],
      "execution_count": null,
      "outputs": [
        {
          "output_type": "execute_result",
          "data": {
            "text/plain": [
              "<sklearn.metrics._plot.confusion_matrix.ConfusionMatrixDisplay at 0x7fd02dc51e80>"
            ]
          },
          "metadata": {
            "tags": []
          },
          "execution_count": 11
        },
        {
          "output_type": "display_data",
          "data": {
            "image/png": "[encoded data removed]",
            "text/plain": [
              "<Figure size 432x288 with 2 Axes>"
            ]
          },
          "metadata": {
            "tags": [],
            "needs_background": "light"
          }
        }
      ]
    },
    {
      "cell_type": "markdown",
      "metadata": {
        "id": "EDdHsExLxxkG"
      },
      "source": [
        "**SVM Algorithm:**\n",
        "SVM algorithm picks the one that has the maximum distance from the closest data points. Kernel SVM contains a non-linear transformation function to convert the complicated non-linearly separable data into linearly separable data.It performs the same in such a way that datasets belonging to different classes are allocated to different dimensions. "
      ]
    },
    {
      "cell_type": "markdown",
      "metadata": {
        "id": "BqwOcsSOW5mr"
      },
      "source": [
        "**To Train Support Vector Machine Tree Model**"
      ]
    },
    {
      "cell_type": "code",
      "metadata": {
        "id": "h2oJvqC0s0CN",
        "colab": {
          "base_uri": "https://localhost:8080/"
        },
        "outputId": "a1f92a70-c467-4d0f-92d6-2fe2351178d9"
      },
      "source": [
        "from sklearn.svm import SVC\n",
        "svm_model = SVC(gamma='auto')\n",
        "svm_model.fit(X_train,y_train)"
      ],
      "execution_count": null,
      "outputs": [
        {
          "output_type": "execute_result",
          "data": {
            "text/plain": [
              "SVC(C=1.0, break_ties=False, cache_size=200, class_weight=None, coef0=0.0,\n",
              "    decision_function_shape='ovr', degree=3, gamma='auto', kernel='rbf',\n",
              "    max_iter=-1, probability=False, random_state=None, shrinking=True,\n",
              "    tol=0.001, verbose=False)"
            ]
          },
          "metadata": {
            "tags": []
          },
          "execution_count": 20
        }
      ]
    },
    {
      "cell_type": "markdown",
      "metadata": {
        "id": "IDEP4W__YMt1"
      },
      "source": [
        " **To predict the Support Vector Machine model**"
      ]
    },
    {
      "cell_type": "code",
      "metadata": {
        "id": "vPR_yRj2s0Mu"
      },
      "source": [
        "predictions = svm_model.predict(X_test)"
      ],
      "execution_count": null,
      "outputs": []
    },
    {
      "cell_type": "markdown",
      "metadata": {
        "id": "h68dFTEeYbFb"
      },
      "source": [
        " **To see the accuracy and classification-report of the SVM model through Classification-Performance Metrics.**"
      ]
    },
    {
      "cell_type": "code",
      "metadata": {
        "id": "F5jYYJqzs0YN",
        "colab": {
          "base_uri": "https://localhost:8080/"
        },
        "outputId": "d3058a94-c243-4ac7-a743-4793bdc53d05"
      },
      "source": [
        "from sklearn import metrics\n",
        "print(confusion_matrix(y_test,predictions))\n",
        "print(classification_report(y_test,predictions))\n",
        "print('SVMClassifier Accuracy-Score: ',metrics.accuracy_score(y_test,predictions))"
      ],
      "execution_count": null,
      "outputs": [
        {
          "output_type": "stream",
          "text": [
            "[[21  0  0]\n",
            " [ 0 21  0]\n",
            " [ 0  0 21]]\n",
            "              precision    recall  f1-score   support\n",
            "\n",
            "           1       1.00      1.00      1.00        21\n",
            "           2       1.00      1.00      1.00        21\n",
            "           3       1.00      1.00      1.00        21\n",
            "\n",
            "    accuracy                           1.00        63\n",
            "   macro avg       1.00      1.00      1.00        63\n",
            "weighted avg       1.00      1.00      1.00        63\n",
            "\n",
            "SVMClassifier Accuracy-Score:  1.0\n"
          ],
          "name": "stdout"
        }
      ]
    },
    {
      "cell_type": "markdown",
      "metadata": {
        "id": "oiA_F-riY1LY"
      },
      "source": [
        "**To display the confusion-matrix of the Support Vector Machine model through ConfusionMatrixDisplay.**"
      ]
    },
    {
      "cell_type": "code",
      "metadata": {
        "id": "V-ibfJcPyUn-",
        "colab": {
          "base_uri": "https://localhost:8080/",
          "height": 297
        },
        "outputId": "2ba5cdcc-3374-44fc-d167-1ca6c62d5def"
      },
      "source": [
        "from sklearn.metrics import ConfusionMatrixDisplay\n",
        "cls_mat=confusion_matrix(y_test,predictions)\n",
        "disp = ConfusionMatrixDisplay(cls_mat,display_labels=clf.classes_)\n",
        "disp.plot()"
      ],
      "execution_count": null,
      "outputs": [
        {
          "output_type": "execute_result",
          "data": {
            "text/plain": [
              "<sklearn.metrics._plot.confusion_matrix.ConfusionMatrixDisplay at 0x7fd02db12f98>"
            ]
          },
          "metadata": {
            "tags": []
          },
          "execution_count": 15
        },
        {
          "output_type": "display_data",
          "data": {
            "image/png": "[encoded data removed]",
            "text/plain": [
              "<Figure size 432x288 with 2 Axes>"
            ]
          },
          "metadata": {
            "tags": [],
            "needs_background": "light"
          }
        }
      ]
    },
    {
      "cell_type": "markdown",
      "metadata": {
        "id": "RULWcArPx3h2"
      },
      "source": [
        "**KNN Algorithm:**\n",
        "It is a lazy learning algorithm since it doesn't have a specialized training phase. Rather, it uses all of the data for training while classifying a new data point or instance."
      ]
    },
    {
      "cell_type": "markdown",
      "metadata": {
        "id": "4DgMKXo9ZZAS"
      },
      "source": [
        "**To Train K-Nearest Neighbors  Tree Model**"
      ]
    },
    {
      "cell_type": "code",
      "metadata": {
        "id": "gbY_0NSjxVG2",
        "colab": {
          "base_uri": "https://localhost:8080/"
        },
        "outputId": "cd32f0d0-f09a-49b4-fafd-d79180a951f4"
      },
      "source": [
        "from sklearn.neighbors import KNeighborsClassifier\n",
        "knn_model = KNeighborsClassifier(n_neighbors=5)\n",
        "knn_model.fit(X_train, y_train)"
      ],
      "execution_count": null,
      "outputs": [
        {
          "output_type": "execute_result",
          "data": {
            "text/plain": [
              "KNeighborsClassifier(algorithm='auto', leaf_size=30, metric='minkowski',\n",
              "                     metric_params=None, n_jobs=None, n_neighbors=5, p=2,\n",
              "                     weights='uniform')"
            ]
          },
          "metadata": {
            "tags": []
          },
          "execution_count": 16
        }
      ]
    },
    {
      "cell_type": "markdown",
      "metadata": {
        "id": "8yX5j8qZZlX-"
      },
      "source": [
        " **To predict the K-Nearest Neighbors model**"
      ]
    },
    {
      "cell_type": "code",
      "metadata": {
        "id": "n7FAuj10xW4J"
      },
      "source": [
        "pre = knn_model.predict(X_test)"
      ],
      "execution_count": null,
      "outputs": []
    },
    {
      "cell_type": "markdown",
      "metadata": {
        "id": "zIswVKf_Zv1J"
      },
      "source": [
        "**To see the accuracy and classification-report of the K-Nearest Neighbors model through Classification-Performance Metrics.**"
      ]
    },
    {
      "cell_type": "code",
      "metadata": {
        "id": "H183hruWxXI1",
        "colab": {
          "base_uri": "https://localhost:8080/"
        },
        "outputId": "4b3dfef7-df19-494f-9efc-9ebd7c9d9433"
      },
      "source": [
        "from sklearn import metrics\n",
        "print(confusion_matrix(y_test,pre))\n",
        "print(classification_report(y_test,pre))\n",
        "print('KNNClassifier Accuracy-Score: ',metrics.accuracy_score(y_test,pre))"
      ],
      "execution_count": null,
      "outputs": [
        {
          "output_type": "stream",
          "text": [
            "[[21  0  0]\n",
            " [ 0 20  1]\n",
            " [ 0  0 21]]\n",
            "              precision    recall  f1-score   support\n",
            "\n",
            "           1       1.00      1.00      1.00        21\n",
            "           2       1.00      0.95      0.98        21\n",
            "           3       0.95      1.00      0.98        21\n",
            "\n",
            "    accuracy                           0.98        63\n",
            "   macro avg       0.98      0.98      0.98        63\n",
            "weighted avg       0.98      0.98      0.98        63\n",
            "\n",
            "KNNClassifier Accuracy-Score:  0.9841269841269841\n"
          ],
          "name": "stdout"
        }
      ]
    },
    {
      "cell_type": "markdown",
      "metadata": {
        "id": "U-3MaOZTZxsz"
      },
      "source": [
        "**To display the confusion-matrix of the K-Nearest Neighbors model through ConfusionMatrixDisplay.**"
      ]
    },
    {
      "cell_type": "code",
      "metadata": {
        "id": "iDOj9cElyg7F",
        "colab": {
          "base_uri": "https://localhost:8080/",
          "height": 297
        },
        "outputId": "1d2c7433-9f33-47db-8c59-26d749ce52b0"
      },
      "source": [
        "from sklearn.metrics import ConfusionMatrixDisplay\n",
        "cls_mat=confusion_matrix(y_test,pre)\n",
        "disp = ConfusionMatrixDisplay(cls_mat,display_labels=clf.classes_)\n",
        "disp.plot()"
      ],
      "execution_count": null,
      "outputs": [
        {
          "output_type": "execute_result",
          "data": {
            "text/plain": [
              "<sklearn.metrics._plot.confusion_matrix.ConfusionMatrixDisplay at 0x7fd02d60ccf8>"
            ]
          },
          "metadata": {
            "tags": []
          },
          "execution_count": 19
        },
        {
          "output_type": "display_data",
          "data": {
            "image/png": "[encoded data removed]",
            "text/plain": [
              "<Figure size 432x288 with 2 Axes>"
            ]
          },
          "metadata": {
            "tags": [],
            "needs_background": "light"
          }
        }
      ]
    }
  ]
}